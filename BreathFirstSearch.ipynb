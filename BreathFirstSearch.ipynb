{
 "cells": [
  {
   "cell_type": "code",
   "execution_count": 1,
   "metadata": {},
   "outputs": [],
   "source": [
    "\n",
    "\n",
    "# ^^^^^^^^^^^^^^^^^^^^^^^^^^^^^^^^^^^^^^^^^^^^^\n",
    "\n",
    "#                 _ooOoo_                       Fun\n",
    "#                o8888888o\n",
    "#                88\" . \"88      \n",
    "#                (| -_- |)      \n",
    "#                 O\\ = /O\n",
    "#             ____/`---'\\____         \n",
    "#             .' \\\\| |// `.             \n",
    "#            / \\\\||| : |||// \\        \n",
    "#          / _||||| -:- |||||- \\    \n",
    "#            | | \\\\\\ - /// | |              \n",
    "#          | \\_| ''\\---/'' | |           \n",
    "#          \\ .-\\__ `-` ___/-. /          \n",
    "#        ___`. .' /--.--\\ `. . __\n",
    "#     .\"\" '< `.___\\_<|>_/___.' >'\"\". \n",
    "#    | | : `- \\`.;`\\ _ /`;.`/ - ` : | |  \n",
    "#      \\ \\ `-. \\_ __\\ /__ _/ .-` / /\n",
    "# ======`-.____`-.___\\_____/___.-`____.-'======\n",
    "#                 `=---='\n",
    "# ^^^^^^^^^^^^^^^^^^^^^^^^^^^^^^^^^^^^^^^^^^^^^\n"
   ]
  },
  {
   "cell_type": "markdown",
   "metadata": {},
   "source": [
    "# Breath First Search"
   ]
  },
  {
   "cell_type": "code",
   "execution_count": 2,
   "metadata": {},
   "outputs": [],
   "source": [
    "import queue\n"
   ]
  },
  {
   "cell_type": "code",
   "execution_count": 3,
   "metadata": {},
   "outputs": [
    {
     "name": "stdout",
     "output_type": "stream",
     "text": [
      "A\n",
      "B\n",
      "C\n",
      "D\n",
      "E\n",
      "F\n",
      "G\n",
      "None\n"
     ]
    }
   ],
   "source": [
    "def BreathFirstSearch(graph, start):\n",
    "    visited = set()\n",
    "    q = queue.Queue()\n",
    "    q.put(start)\n",
    "    visited.add(start)\n",
    "# loop until the queue is empty\n",
    "    while not q.empty():\n",
    "        vertex = q.get()\n",
    "        print(vertex)\n",
    "        for neighbor in graph[vertex]:\n",
    "            if neighbor not in visited:\n",
    "                visited.add(neighbor)\n",
    "                q.put(neighbor)\n",
    "# Test\n",
    "graph = {\n",
    "    'A': ['B', 'C'],\n",
    "    'B': ['A', 'D', 'E'],\n",
    "    'C': ['A','F', 'G'],\n",
    "    'D': ['B'],\n",
    "    'E': ['B'],\n",
    "    'F': ['C'],\n",
    "    'G': ['C']\n",
    "}\n",
    "print(BreathFirstSearch(graph, 'A'))\n",
    "\n"
   ]
  }
 ],
 "metadata": {
  "kernelspec": {
   "display_name": "base",
   "language": "python",
   "name": "python3"
  },
  "language_info": {
   "codemirror_mode": {
    "name": "ipython",
    "version": 3
   },
   "file_extension": ".py",
   "mimetype": "text/x-python",
   "name": "python",
   "nbconvert_exporter": "python",
   "pygments_lexer": "ipython3",
   "version": "3.11.5"
  }
 },
 "nbformat": 4,
 "nbformat_minor": 2
}
