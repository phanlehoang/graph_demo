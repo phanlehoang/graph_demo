{
 "cells": [
  {
   "cell_type": "markdown",
   "metadata": {},
   "source": [
    "# Depth First Search"
   ]
  },
  {
   "cell_type": "code",
   "execution_count": 2,
   "metadata": {},
   "outputs": [
    {
     "name": "stdout",
     "output_type": "stream",
     "text": [
      "1 2 4 3 6 7 9 8 5 "
     ]
    }
   ],
   "source": [
    "def DepthFirstSearch(graph, start, visited=None):\n",
    "    if visited is None:\n",
    "        visited = set()\n",
    "    visited.add(start)\n",
    "    print(start, end=' ')  # In ra kết quả trên cùng một dòng\n",
    "    for neighbor in graph[start]:\n",
    "        if neighbor not in visited:\n",
    "            DepthFirstSearch(graph, neighbor, visited)\n",
    "\n",
    "# Example\n",
    "graph = {\n",
    "    '1': ['2', '3', '5'],\n",
    "    '2': ['1', '4'],\n",
    "    '3': ['1', '6', '7', '9'],\n",
    "    '4': ['2'],\n",
    "    '5': ['1', '8'],\n",
    "    '6': ['3'],\n",
    "    '7': ['3'],\n",
    "    '8': ['5', '9'],\n",
    "    '9': ['3', '8']\n",
    "}\n",
    "DepthFirstSearch(graph, '1')\n"
   ]
  },
  {
   "cell_type": "code",
   "execution_count": 1,
   "metadata": {},
   "outputs": [
    {
     "name": "stdout",
     "output_type": "stream",
     "text": [
      "Strongly Connected Components:\n",
      "5\n",
      "8\n",
      "9\n",
      "1\n",
      "2\n",
      "4\n",
      "3\n",
      "6\n",
      "7\n",
      "0\n"
     ]
    }
   ],
   "source": [
    "# Kosaraju's algorithm to find strongly connected components in Python\n",
    "\n",
    "\n",
    "from collections import defaultdict\n",
    "\n",
    "class Graph:\n",
    "\n",
    "    def __init__(self, vertex):\n",
    "        self.V = vertex\n",
    "        self.graph = defaultdict(list)\n",
    "\n",
    "    # Add edge into the graph\n",
    "    def add_edge(self, s, d):\n",
    "        self.graph[s].append(d)\n",
    "\n",
    "    # dfs\n",
    "    def dfs(self, d, visited_vertex):\n",
    "        visited_vertex[d] = True\n",
    "        print(d, end='')\n",
    "        for i in self.graph[d]:\n",
    "            if not visited_vertex[i]:\n",
    "                self.dfs(i, visited_vertex)\n",
    "\n",
    "    def fill_order(self, d, visited_vertex, stack):\n",
    "        visited_vertex[d] = True\n",
    "        for i in self.graph[d]:\n",
    "            if not visited_vertex[i]:\n",
    "                self.fill_order(i, visited_vertex, stack)\n",
    "        stack = stack.append(d)\n",
    "\n",
    "    # transpose the matrix\n",
    "    def transpose(self):\n",
    "        g = Graph(self.V)\n",
    "\n",
    "        for i in self.graph:\n",
    "            for j in self.graph[i]:\n",
    "                g.add_edge(j, i)\n",
    "        return g\n",
    "\n",
    "    # Print stongly connected components\n",
    "    def print_scc(self):\n",
    "        stack = []\n",
    "        visited_vertex = [False] * (self.V)\n",
    "\n",
    "        for i in range(self.V):\n",
    "            if not visited_vertex[i]:\n",
    "                self.fill_order(i, visited_vertex, stack)\n",
    "\n",
    "        gr = self.transpose()\n",
    "\n",
    "        visited_vertex = [False] * (self.V)\n",
    "\n",
    "        while stack:\n",
    "            i = stack.pop()\n",
    "            if not visited_vertex[i]:\n",
    "                gr.dfs(i, visited_vertex)\n",
    "                print(\"\")\n",
    "\n",
    "\n",
    "g = Graph(10)\n",
    "\n",
    "g.add_edge(1, 2)\n",
    "g.add_edge(2, 3)\n",
    "g.add_edge(2, 4)\n",
    "g.add_edge(3, 6)\n",
    "g.add_edge(3, 6)\n",
    "g.add_edge(6, 7)\n",
    "g.add_edge(3, 7)\n",
    "g.add_edge(5, 8)\n",
    "g.add_edge(8, 9)\n",
    "\n",
    "print(\"Strongly Connected Components:\")\n",
    "g.print_scc()"
   ]
  }
 ],
 "metadata": {
  "kernelspec": {
   "display_name": "base",
   "language": "python",
   "name": "python3"
  },
  "language_info": {
   "codemirror_mode": {
    "name": "ipython",
    "version": 3
   },
   "file_extension": ".py",
   "mimetype": "text/x-python",
   "name": "python",
   "nbconvert_exporter": "python",
   "pygments_lexer": "ipython3",
   "version": "3.11.5"
  }
 },
 "nbformat": 4,
 "nbformat_minor": 2
}
