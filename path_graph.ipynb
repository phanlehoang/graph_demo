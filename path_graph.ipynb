{
 "cells": [
  {
   "cell_type": "code",
   "execution_count": 1,
   "metadata": {},
   "outputs": [],
   "source": [
    "m= 0\n",
    "n=0\n",
    "s=0\n",
    "t=0\n",
    "visited = []\n",
    "parent = []\n",
    "\n"
   ]
  },
  {
   "cell_type": "code",
   "execution_count": 2,
   "metadata": {},
   "outputs": [],
   "source": [
    "def dfs(graph, node):\n",
    "    global m\n",
    "    global n\n",
    "    global s\n",
    "    global t\n",
    "    global visited\n",
    "    global parent\n",
    "    visited[node] = True\n",
    "    for i in range(n):\n",
    "        if graph[node][i] > 0 and not visited[i]:\n",
    "            parent[i] = node\n",
    "            dfs(graph, i)\n",
    "    return visited[t]"
   ]
  },
  {
   "cell_type": "code",
   "execution_count": 3,
   "metadata": {},
   "outputs": [],
   "source": [
    "def path(graph,  s,  t):\n",
    "    dfs(graph, s)\n",
    "    if not visited[t]:\n",
    "        print(\"No path\")\n",
    "    else :\n",
    "        path = []\n",
    "        while t != s:\n",
    "            path.append(t)\n",
    "            t = parent[t]\n",
    "        path.append(s)\n",
    "        path.reverse()\n",
    "        print(path)\n",
    "    "
   ]
  },
  {
   "cell_type": "code",
   "execution_count": 4,
   "metadata": {},
   "outputs": [
    {
     "name": "stdout",
     "output_type": "stream",
     "text": [
      "No path\n"
     ]
    }
   ],
   "source": [
    "# example\n",
    "n = 10\n",
    "m = 8\n",
    "s = 0\n",
    "t = 5\n",
    "graph = [[0 for i in range(n)] for j in range(n)]\n",
    "visited = [False for i in range(n)]\n",
    "parent = [-1 for i in range(n)]\n",
    "graph[1][2] = 1\n",
    "graph[2][3] = 1\n",
    "graph[2][4] = 1\n",
    "graph[3][6] = 1\n",
    "graph[3][7] = 1\n",
    "graph[6][7] = 1\n",
    "graph[5][8] = 1\n",
    "graph[8][9] = 1\n",
    "\n",
    "path(graph, s, t)\n",
    "\n"
   ]
  }
 ],
 "metadata": {
  "kernelspec": {
   "display_name": "base",
   "language": "python",
   "name": "python3"
  },
  "language_info": {
   "codemirror_mode": {
    "name": "ipython",
    "version": 3
   },
   "file_extension": ".py",
   "mimetype": "text/x-python",
   "name": "python",
   "nbconvert_exporter": "python",
   "pygments_lexer": "ipython3",
   "version": "3.11.5"
  }
 },
 "nbformat": 4,
 "nbformat_minor": 2
}
